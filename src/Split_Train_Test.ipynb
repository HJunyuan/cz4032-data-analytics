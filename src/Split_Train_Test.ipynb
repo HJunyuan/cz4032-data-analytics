{
 "cells": [
  {
   "cell_type": "code",
   "execution_count": 1,
   "metadata": {},
   "outputs": [],
   "source": [
    "import numpy as np\n",
    "import pandas as pd\n",
    "from sklearn.model_selection import train_test_split"
   ]
  },
  {
   "cell_type": "code",
   "execution_count": 2,
   "metadata": {},
   "outputs": [],
   "source": [
    "boston = pd.read_csv('./house_prices_train.csv')"
   ]
  },
  {
   "cell_type": "code",
   "execution_count": 3,
   "metadata": {},
   "outputs": [],
   "source": [
    "# Shuffle rows\n",
    "seed = 10\n",
    "s = np.arange(boston.shape[0]) # Create an index array\n",
    "np.random.shuffle(s) # Shuffle the index array\n",
    "\n",
    "boston = boston.iloc[s]"
   ]
  },
  {
   "cell_type": "code",
   "execution_count": 4,
   "metadata": {},
   "outputs": [],
   "source": [
    "x = boston.iloc[:, 1:-1] # Remove first (ID) and last (SalePrice) column\n",
    "y = boston.iloc[:, -1] # Only get last column (SalePrice)"
   ]
  },
  {
   "cell_type": "code",
   "execution_count": 5,
   "metadata": {},
   "outputs": [],
   "source": [
    "trainX, testX, trainY, testY = train_test_split(x, y, test_size=0.30, random_state=seed)"
   ]
  },
  {
   "cell_type": "code",
   "execution_count": 6,
   "metadata": {},
   "outputs": [
    {
     "name": "stdout",
     "output_type": "stream",
     "text": [
      "      MSSubClass MSZoning  LotFrontage  LotArea Street Alley LotShape  \\\n",
      "438           30       RL         40.0     4280   Pave   NaN      Reg   \n",
      "1038         160       RM         21.0     1533   Pave   NaN      Reg   \n",
      "829          160       FV         24.0     2544   Pave  Pave      Reg   \n",
      "1313          60       RL        108.0    14774   Pave   NaN      IR1   \n",
      "1136          50       RL         80.0     9600   Pave   NaN      Reg   \n",
      "...          ...      ...          ...      ...    ...   ...      ...   \n",
      "1219         160       RM         21.0     1680   Pave   NaN      Reg   \n",
      "997           20       RL          NaN    11717   Pave   NaN      IR1   \n",
      "679           20       RL          NaN     9945   Pave   NaN      IR1   \n",
      "35            60       RL        108.0    13418   Pave   NaN      Reg   \n",
      "1439          60       RL         80.0    11584   Pave   NaN      Reg   \n",
      "\n",
      "     LandContour Utilities LotConfig  ... ScreenPorch PoolArea PoolQC  Fence  \\\n",
      "438          Lvl    AllPub    Inside  ...           0        0    NaN  MnPrv   \n",
      "1038         Lvl    AllPub    Inside  ...           0        0    NaN    NaN   \n",
      "829          Lvl    AllPub    Inside  ...           0        0    NaN    NaN   \n",
      "1313         Lvl    AllPub    Corner  ...           0        0    NaN    NaN   \n",
      "1136         Lvl    AllPub    Inside  ...           0        0    NaN    NaN   \n",
      "...          ...       ...       ...  ...         ...      ...    ...    ...   \n",
      "1219         Lvl    AllPub    Inside  ...           0        0    NaN    NaN   \n",
      "997          Lvl    AllPub    Inside  ...           0        0    NaN    NaN   \n",
      "679          Lvl    AllPub    Inside  ...           0        0    NaN    NaN   \n",
      "35           Lvl    AllPub    Inside  ...           0        0    NaN    NaN   \n",
      "1439         Lvl    AllPub    Inside  ...           0        0    NaN    NaN   \n",
      "\n",
      "     MiscFeature MiscVal  MoSold  YrSold  SaleType  SaleCondition  \n",
      "438          NaN       0       3    2007        WD         Normal  \n",
      "1038         NaN       0       5    2009        WD         Normal  \n",
      "829          NaN       0       7    2006        WD         Normal  \n",
      "1313         NaN       0       5    2010        WD         Normal  \n",
      "1136         NaN       0       4    2008        WD        Abnorml  \n",
      "...          ...     ...     ...     ...       ...            ...  \n",
      "1219         NaN       0       4    2006        WD        Abnorml  \n",
      "997          NaN       0       2    2009        WD         Normal  \n",
      "679          NaN       0      10    2007        WD         Normal  \n",
      "35           NaN       0       9    2006        WD         Normal  \n",
      "1439         NaN       0      11    2007        WD         Normal  \n",
      "\n",
      "[1022 rows x 79 columns]\n",
      "438      90350\n",
      "1038     97000\n",
      "829     147400\n",
      "1313    333168\n",
      "1136    119000\n",
      "         ...  \n",
      "1219     91500\n",
      "997     185000\n",
      "679     128500\n",
      "35      309000\n",
      "1439    197000\n",
      "Name: SalePrice, Length: 1022, dtype: int64\n",
      "      MSSubClass MSZoning  LotFrontage  LotArea Street Alley LotShape  \\\n",
      "1055          20       RL        104.0    11361   Pave   NaN      Reg   \n",
      "851          120       RL          NaN     3196   Pave   NaN      Reg   \n",
      "1319          20       RL         75.0    10215   Pave   NaN      Reg   \n",
      "369           20       RL          NaN     9830   Pave   NaN      IR1   \n",
      "404           60       RL          NaN    10364   Pave   NaN      IR1   \n",
      "...          ...      ...          ...      ...    ...   ...      ...   \n",
      "582           90       RL         81.0    11841   Grvl   NaN      Reg   \n",
      "1249          20       RL         60.0     7200   Pave   NaN      Reg   \n",
      "160           20       RL          NaN    11120   Pave   NaN      IR1   \n",
      "647           20       RL         85.0    10452   Pave   NaN      IR1   \n",
      "731           80       RL         73.0     9590   Pave   NaN      IR1   \n",
      "\n",
      "     LandContour Utilities LotConfig  ... ScreenPorch PoolArea PoolQC  Fence  \\\n",
      "1055         Lvl    AllPub    Inside  ...         189        0    NaN  MnPrv   \n",
      "851          Lvl    AllPub    Inside  ...           0        0    NaN    NaN   \n",
      "1319         Bnk    AllPub    Inside  ...           0        0    NaN    NaN   \n",
      "369          Lvl    AllPub    Corner  ...         182        0    NaN    NaN   \n",
      "404          Lvl    AllPub    Inside  ...           0        0    NaN    NaN   \n",
      "...          ...       ...       ...  ...         ...      ...    ...    ...   \n",
      "582          Lvl    AllPub    Inside  ...           0        0    NaN    NaN   \n",
      "1249         Lvl    AllPub    Inside  ...           0        0    NaN    NaN   \n",
      "160          Lvl    AllPub   CulDSac  ...           0        0    NaN    NaN   \n",
      "647          Lvl    AllPub    Inside  ...         287        0    NaN    NaN   \n",
      "731          Lvl    AllPub    Corner  ...           0        0    NaN    NaN   \n",
      "\n",
      "     MiscFeature MiscVal  MoSold  YrSold  SaleType  SaleCondition  \n",
      "1055         NaN       0       5    2008       COD        Abnorml  \n",
      "851          NaN       0       5    2006        WD         Normal  \n",
      "1319         NaN       0       2    2007        WD         Normal  \n",
      "369          NaN       0       3    2010        WD         Normal  \n",
      "404          NaN       0       5    2007        WD         Normal  \n",
      "...          ...     ...     ...     ...       ...            ...  \n",
      "582          NaN       0       5    2007        WD         Normal  \n",
      "1249         NaN       0       5    2007        WD         Normal  \n",
      "160          NaN       0       6    2008        WD         Normal  \n",
      "647          NaN       0       6    2008        WD         Normal  \n",
      "731          NaN       0       5    2007        WD         Normal  \n",
      "\n",
      "[438 rows x 79 columns]\n",
      "1055    180000\n",
      "851     215000\n",
      "1319    111000\n",
      "369     162000\n",
      "404     168000\n",
      "         ...  \n",
      "582     118500\n",
      "1249    119000\n",
      "160     162500\n",
      "647     155000\n",
      "731     187500\n",
      "Name: SalePrice, Length: 438, dtype: int64\n"
     ]
    }
   ],
   "source": [
    "print(trainX)\n",
    "print(trainY)\n",
    "print(testX)\n",
    "print(testY)"
   ]
  },
  {
   "cell_type": "code",
   "execution_count": 7,
   "metadata": {},
   "outputs": [],
   "source": [
    "trainX.to_csv('trainX.csv', index=False, header=True)\n",
    "trainY.to_csv('trainY.csv', index=False, header=True)\n",
    "testX.to_csv('testX.csv', index=False, header=True)\n",
    "testY.to_csv('testY.csv', index=False, header=True)"
   ]
  }
 ],
 "metadata": {
  "kernelspec": {
   "display_name": "Python 3",
   "language": "python",
   "name": "python3"
  },
  "language_info": {
   "codemirror_mode": {
    "name": "ipython",
    "version": 3
   },
   "file_extension": ".py",
   "mimetype": "text/x-python",
   "name": "python",
   "nbconvert_exporter": "python",
   "pygments_lexer": "ipython3",
   "version": "3.7.4"
  }
 },
 "nbformat": 4,
 "nbformat_minor": 2
}
